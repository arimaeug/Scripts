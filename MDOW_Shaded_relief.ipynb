{
 "cells": [
  {
   "cell_type": "markdown",
   "metadata": {},
   "source": [
    "This script creates Multidirectional, Oblique-weighted, shaded-relief image from a DEM\n",
    "\n",
    "Somewhat replicates the method described by Robert Mark:\n",
    "\n",
    "    Multidirectional, oblique-weighted, shaded-relief image of the Island of Hawaii\n",
    "\n",
    "    USGS OF-92-422 (not dated)\n",
    "\n",
    "    https://pubs.usgs.gov/of/1992/of92-422/of92-422.pdf\n",
    "\n",
    "Uses arcpy methods but could easily be adapted to rasterio or gdal methods\n"
   ]
  },
  {
   "cell_type": "code",
   "execution_count": 1,
   "metadata": {},
   "outputs": [],
   "source": [
    "#Import packages\n",
    "import arcpy\n",
    "from arcpy import env\n",
    "from arcpy.sa import *\n",
    "import math\n",
    "import os"
   ]
  },
  {
   "cell_type": "code",
   "execution_count": 2,
   "metadata": {},
   "outputs": [],
   "source": [
    "def hshade(dem):\n",
    "     '''\n",
    "     Creates hillshades a different azimuths, directions defined in list azimuths\n",
    "     Saves each hillshade as shade{dg}.tif\n",
    "     '''\n",
    "     azimuths = [225, 270, 315, 360]\n",
    "     for dg in azimuths:\n",
    "          print(f\"Calculating hillshade: {dg}\")\n",
    "          shade = Hillshade(dem, dg)\n",
    "          outshd = \"shade\" + str(dg) + \".tif\"\n",
    "          shade.save(outshd)"
   ]
  },
  {
   "cell_type": "code",
   "execution_count": 3,
   "metadata": {},
   "outputs": [],
   "source": [
    "def wraster(dem, ncells = 3):\n",
    "     '''\n",
    "     Calculates weight rasters that will multiply each corresponding shaded relief.\n",
    "     In the original paper, Robert Mark resamples the DEM to a lower resolution \n",
    "       and blurs the DEM due to processing limitations at the time.\n",
    "       I commented out the part corresponding to the blurring.\n",
    "     '''\n",
    "     dg2rad = math.pi/180\n",
    "     azimuths = [225, 270, 315, 360]\n",
    "     #weights = []\n",
    "     #print(\"Blurring the dem...\")\n",
    "     #h01 = FocalStatistics(dem, NbrCircle(ncells, \"CELL\"))\n",
    "     #h02 = FocalStatistics(Raster(h01), NbrCircle(ncells, \"CELL\"))\n",
    "     #h03 = FocalStatistics(Raster(h02), NbrCircle(ncells, \"CELL\"))\n",
    "     #asp = Aspect(Raster(h03))\n",
    "     asp = Aspect(dem)\n",
    "     #asp1 = Con(IsNull(Raster(asp)), 293, asp)\n",
    "     outasp = \"asp1.tif\"\n",
    "     asp.save(outasp)\n",
    "     for dg in azimuths:\n",
    "          print(f\"Calculating weight raster: {dg}\")\n",
    "          #What does this equation do? It gives more weight to slopes\n",
    "          # that are perpendicular to the source of light. Aspects\n",
    "          # either facing the source of light or facing opposite the source of\n",
    "          # light will receive small weights.\n",
    "          w = Square(Sin((Raster(outasp) - dg) * dg2rad))\n",
    "          wout = \"w\" + str(dg) + \".tif\"\n",
    "          w.save(wout)"
   ]
  },
  {
   "cell_type": "code",
   "execution_count": 4,
   "metadata": {},
   "outputs": [],
   "source": [
    "def mdwshd():\n",
    "     #Collect weight rasters created by the function above into a list\n",
    "     wlist = [f for f in os.listdir() if f.startswith(\"w\") and f.endswith(\"tif\")]\n",
    "     print(wlist)\n",
    "     #Collect the shaded relief rasters created above into a list\n",
    "     shdlist = [f for f in os.listdir() if f.startswith(\"shade\") and f.endswith(\"tif\")]\n",
    "     print(shdlist)\n",
    "     tmp0 = (Raster(wlist[0])*Raster(shdlist[0]))\n",
    "     tmp1 = (Raster(wlist[1])*Raster(shdlist[1]))\n",
    "     tmp2 = (Raster(wlist[2])*Raster(shdlist[2])) \n",
    "     tmp3 = (Raster(wlist[3])*Raster(shdlist[3])) \n",
    "     tmp = Raster(tmp0) + Raster(tmp1) + Raster(tmp2) + Raster(tmp3)\n",
    "     #In the original paper, RM divides by 2 \n",
    "     # You can divide by 4 to get the average. If the color ramp assigns colors based on the stretch [min, max] values\n",
    "     #  this shouldn't matter.\n",
    "     shd = Int(Raster(tmp) / 2)\n",
    "     #Multiple direction hillshade saved as:\n",
    "     outshd = \"mdwshd.tif\"\n",
    "     shd.save(outshd)\n",
    "     print(f\"Multidirectional, weighted, shaded-relief raster calculated.\\nSaved as '{outshd}'\")"
   ]
  },
  {
   "cell_type": "code",
   "execution_count": 7,
   "metadata": {},
   "outputs": [],
   "source": [
    "def main():\n",
    "     #Set the path to where your dem is\n",
    "     path = r'H:\\\\GRG470C\\\\MDWH'\n",
    "     env.workspace = path\n",
    "     os.chdir(path)\n",
    "     #Overwrite file option set to True\n",
    "     env.overwriteOutput = True\n",
    "     #Pass on the name of the DEM to the variable elv\n",
    "     elv = \"dem_roi.tif\"\n",
    "     hshade(elv)\n",
    "     wraster(elv)\n",
    "     mdwshd()"
   ]
  },
  {
   "cell_type": "code",
   "execution_count": null,
   "metadata": {},
   "outputs": [],
   "source": [
    "main()"
   ]
  }
 ],
 "metadata": {
  "kernelspec": {
   "display_name": "myarcpy",
   "language": "python",
   "name": "python3"
  },
  "language_info": {
   "codemirror_mode": {
    "name": "ipython",
    "version": 3
   },
   "file_extension": ".py",
   "mimetype": "text/x-python",
   "name": "python",
   "nbconvert_exporter": "python",
   "pygments_lexer": "ipython3",
   "version": "3.11.10"
  }
 },
 "nbformat": 4,
 "nbformat_minor": 2
}
