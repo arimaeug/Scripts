{
 "cells": [
  {
   "cell_type": "markdown",
   "metadata": {},
   "source": [
    "Author: E. Arima (University of Texas at Austin) Department of Geography and the Environment\n",
    "\n",
    "Date: 09/14/2020\n",
    "\n",
    "Modifications:\n",
    "\n",
    "Usage: Stand alone script\n",
    "\n",
    "Title: Full fuzzy analysis in GIS example for a single cell, including defuzzification phase.\n",
    "\n",
    "Intro: Most fuzzy interence in GIS out there that I have seen are a stripped down, simplified version (or \"vanilla\" version) of fuzzy analysis. I have never used fuzzy inference in my own research but wanted to show to my students what a full fuzzy inference analysis would look like. I present here a simple example by illustrating the steps of fuzzy analysis, including the often skipped \"defuzzification\" part. I presume this part is skipped because it is not available as a function in ArcPro (as of version 3.x). This could be easily introduced in future versions because it is already part of the scikit package.\n",
    "\n",
    "Overall Approach: The overall approach to cartographic modeling usually follow the steps below.\n",
    "\n",
    "1. Define objective\n",
    "\n",
    "2. Define criteria\n",
    "\n",
    "    - Through linguistic values\n",
    "    - Measure criteria\n",
    "\n",
    "3. Convert measured criteria into membership (Fuzzification phase)\n",
    "    - choose membership functions, parameters\n",
    "    - Apply functions\n",
    "\n",
    "4. Apply criteria as rules\n",
    "    - Apply fuzzy logic, fuzzy algebra\n",
    "\n",
    "5. Output variable (not usually done in GIS) (Defuzzification phase)\n",
    "\n",
    "    - Convert linguistic outcome into membership\n",
    "    - Convert membership back to crisp value"
   ]
  },
  {
   "cell_type": "markdown",
   "metadata": {},
   "source": [
    "Simple example:\n",
    "\n",
    "Objective: what is the appropriateness of a particular area (one single cell) for development? Appropriateness is measured on a scale of 0-100.\n",
    "\n",
    "Criteria:\n",
    "\n",
    "    - Slope is steep OR area far from UT then area not good\n",
    "    - If slope is average, then okay\n",
    "    - Slope is gentle OR close to UT, then very good"
   ]
  },
  {
   "cell_type": "markdown",
   "metadata": {},
   "source": [
    "First step is to convert a particular observed value of slope and distance to UT to each one of the classes.\n",
    "\n",
    "Suppose our cell slope value is  $6^{o}$\n",
    "  and is 11 km from UT."
   ]
  },
  {
   "cell_type": "markdown",
   "metadata": {},
   "source": [
    "This example uses multiple graphs for teaching purposes, but it represents the data processing for a single cell in a raster GIS dataset.  The same code can be easily modified to handle an entire raster by assigning a whole raster numpy array to the functions. In that case, the visualization (graphing) parts of the code would need to be disabled or removed."
   ]
  },
  {
   "cell_type": "markdown",
   "metadata": {},
   "source": [
    "Import modules of interest. We need numpy, skfuzzy, and matplotlib to plot graphs"
   ]
  },
  {
   "cell_type": "code",
   "execution_count": null,
   "metadata": {},
   "outputs": [],
   "source": [
    "import numpy as np\n",
    "import skfuzzy as fuzz\n",
    "import matplotlib.pyplot as plt\n",
    "#if you do not have skfuzzy package, \n",
    "# pip install scikit-fuzzy"
   ]
  },
  {
   "cell_type": "markdown",
   "metadata": {},
   "source": [
    "Create arrays with the potential range of values for the two variables (this is only to plot figures). We know that slope in degrees is between 0-89.9 and let's say that the longest distance in our study area is 30 km."
   ]
  },
  {
   "cell_type": "code",
   "execution_count": 2,
   "metadata": {},
   "outputs": [],
   "source": [
    "x_slope = np.arange(0, 90,1)\n",
    "x_dist = np.arange(0,31,1)"
   ]
  },
  {
   "cell_type": "code",
   "execution_count": null,
   "metadata": {},
   "outputs": [],
   "source": [
    "x_dist"
   ]
  },
  {
   "cell_type": "code",
   "execution_count": null,
   "metadata": {},
   "outputs": [],
   "source": [
    "x_slope"
   ]
  },
  {
   "cell_type": "markdown",
   "metadata": {},
   "source": [
    "Now, let's choose the membership function that will convert the slope and distance to membership class values. There are plenty of options here. Let's illustrate some in graphs."
   ]
  },
  {
   "cell_type": "markdown",
   "metadata": {},
   "source": [
    "Triangular membership functions"
   ]
  },
  {
   "cell_type": "code",
   "execution_count": 5,
   "metadata": {},
   "outputs": [],
   "source": [
    "slp_gent = fuzz.trimf(x_slope, [0,0, 5])\n",
    "slp_med = fuzz.trimf(x_slope, [0,10, 20])\n",
    "slp_stp = fuzz.trimf(x_slope, [15, 99, 99])"
   ]
  },
  {
   "cell_type": "markdown",
   "metadata": {},
   "source": [
    "Sigmoid membership functions sigmf(x,b,c) b center value of sigmoid where membership == 0.5 c width of sigmoid, how fast approaches 0 or 1. If negative, sigmoid will be decreasing, if positive, will be increasing."
   ]
  },
  {
   "cell_type": "code",
   "execution_count": 6,
   "metadata": {},
   "outputs": [],
   "source": [
    "slp_gent1 = fuzz.sigmf(x_slope, 3, -1)\n",
    "slp_med1 = fuzz.gbellmf(x_slope, 4, 2, 10)\n",
    "slp_stp1 = fuzz.sigmf(x_slope, 15, 1)"
   ]
  },
  {
   "cell_type": "markdown",
   "metadata": {},
   "source": [
    "Trapezoidal membership functions"
   ]
  },
  {
   "cell_type": "code",
   "execution_count": 7,
   "metadata": {},
   "outputs": [],
   "source": [
    "slp_gent2 = fuzz.trapmf(x_slope, [0,0,5,10])\n",
    "slp_med2 = fuzz.trapmf(x_slope, [5, 10, 15, 20])\n",
    "slp_stp2 = fuzz.trapmf(x_slope, [7, 20, 99,99])"
   ]
  },
  {
   "cell_type": "markdown",
   "metadata": {},
   "source": [
    "Plot those graphs to see the difference"
   ]
  },
  {
   "cell_type": "code",
   "execution_count": null,
   "metadata": {},
   "outputs": [],
   "source": [
    "fig, (ax0, ax1, ax2) = plt.subplots(nrows=3, figsize=(8, 9))\n",
    "ax0.plot(x_slope, slp_gent, 'b', linewidth=1.5, label='Gentle')\n",
    "ax0.plot(x_slope, slp_med, 'g', linewidth=1.5, label='Medium')\n",
    "ax0.plot(x_slope, slp_stp, 'r', linewidth=1.5, label='Steep')\n",
    "ax0.set_title('Slope - triangular')\n",
    "ax0.legend()\n",
    "\n",
    "ax1.plot(x_slope, slp_gent1, 'b', linewidth=1.5, label='Gentle')\n",
    "ax1.plot(x_slope, slp_med1, 'g', linewidth=1.5, label='Medium')\n",
    "ax1.plot(x_slope, slp_stp1, 'r', linewidth=1.5, label='Steep')\n",
    "ax1.set_title('Slope - sigmoid')\n",
    "ax1.legend()\n",
    "\n",
    "ax2.plot(x_slope, slp_gent2, 'b', linewidth=1.5, label='Gentle')\n",
    "ax2.plot(x_slope, slp_med2, 'g', linewidth=1.5, label='Medium')\n",
    "ax2.plot(x_slope, slp_stp2, 'r', linewidth=1.5, label='Steep')\n",
    "ax2.set_title('Slope - trapezoid')\n",
    "ax2.legend()\n",
    "outFig = 'fuzzification_fcts.png'\n",
    "plt.savefig(outFig, dpi = 300)\n",
    "plt.show()"
   ]
  },
  {
   "cell_type": "markdown",
   "metadata": {},
   "source": [
    "For distance to UT, let's see how a trapezoidal function would look like"
   ]
  },
  {
   "cell_type": "code",
   "execution_count": null,
   "metadata": {},
   "outputs": [],
   "source": [
    "dclose = fuzz.trapmf(x_dist, [0,0,5,15])\n",
    "dfar = fuzz.trapmf(x_dist, [5,15, 30,30])\n",
    "fig, (ax0) = plt.subplots(nrows=1, figsize=(8, 4.5))\n",
    "ax0.plot(x_dist, dclose, 'b', linewidth=1.5, label='Close')\n",
    "ax0.plot(x_dist, dfar, 'g', linewidth=1.5, label='Far')\n",
    "ax0.set_title('Distance - trapezoidal')\n",
    "ax0.legend()\n",
    "outFig = 'trapezoidal_distance.png'\n",
    "plt.savefig(outFig, dpi = 300)\n",
    "plt.show()"
   ]
  },
  {
   "cell_type": "markdown",
   "metadata": {},
   "source": [
    "Now, let's define the values for our cell. If this were a raster, we would input our raster array. Slope is 6, and distance is 11."
   ]
  },
  {
   "cell_type": "code",
   "execution_count": 10,
   "metadata": {},
   "outputs": [],
   "source": [
    "#Slope value of the cell in question\n",
    "slp  = np.array(6.0)"
   ]
  },
  {
   "cell_type": "code",
   "execution_count": 11,
   "metadata": {},
   "outputs": [],
   "source": [
    "#Distance to UT\n",
    "d2ut = np.array(11.0)"
   ]
  },
  {
   "cell_type": "markdown",
   "metadata": {},
   "source": [
    "Here is the part that we convert those values to membership to the classes we define. Let's use sigmoid functions for slope and trapezoidal for distance."
   ]
  },
  {
   "cell_type": "code",
   "execution_count": 12,
   "metadata": {},
   "outputs": [],
   "source": [
    "slp_f = fuzz.interp_membership(x_slope, slp_gent1, slp)\n",
    "slp_m = fuzz.interp_membership(x_slope, slp_med1, slp)\n",
    "slp_s = fuzz.interp_membership(x_slope, slp_stp1, slp)"
   ]
  },
  {
   "cell_type": "code",
   "execution_count": null,
   "metadata": {},
   "outputs": [],
   "source": [
    "fig,ax1 = plt.subplots(nrows=1, figsize=(8, 4.5))\n",
    "ax1.plot(x_slope, slp_gent1, 'b', linewidth=1.5, label='Gentle')\n",
    "ax1.set_title('Slope - sigmoid')\n",
    "ax1.set_xlim([0, 10])\n",
    "ax1.set_ylim([0,1])\n",
    "ax1.legend()\n",
    "lab1 = f'{slp_f:.3f}'\n",
    "ax1.annotate(lab1, xy=(slp, slp_f), xytext=(-0.7, slp_f))\n",
    "plt.vlines(x = slp, ymin = 0, ymax = slp_f, linewidth = 1.0, linestyles = \"dashed\")\n",
    "plt.hlines(y = slp_f, xmin = 0, xmax = slp, linewidth = 1.0, linestyles = \"dashed\")\n",
    "plt.savefig(\"slope_gentle.png\", dpi = 300)\n",
    "plt.show()"
   ]
  },
  {
   "cell_type": "code",
   "execution_count": null,
   "metadata": {},
   "outputs": [],
   "source": [
    "f'Membership to gentle slope is: {slp_f:.3f}'"
   ]
  },
  {
   "cell_type": "code",
   "execution_count": null,
   "metadata": {},
   "outputs": [],
   "source": [
    "fig,ax1 = plt.subplots(nrows=1, figsize=(8, 4.5))\n",
    "ax1.plot(x_slope, slp_med1, 'g', linewidth=1.5, label='Medium')\n",
    "ax1.set_title('Slope - sigmoid')\n",
    "ax1.set_xlim([0, 10])\n",
    "ax1.set_ylim([0,1.05])\n",
    "ax1.legend()\n",
    "lab1 = f'{slp_m:.3f}'\n",
    "ax1.annotate(lab1, xy=(slp, slp_m), xytext=(-0.7, slp_m))\n",
    "plt.vlines(x = slp, ymin = 0, ymax = slp_m, linewidth = 1.0, linestyles = \"dashed\")\n",
    "plt.hlines(y = slp_m, xmin = 0, xmax = slp, linewidth = 1.0, linestyles = \"dashed\")\n",
    "plt.savefig(\"slope_medium.png\", dpi = 300)\n",
    "plt.show()"
   ]
  },
  {
   "cell_type": "code",
   "execution_count": null,
   "metadata": {},
   "outputs": [],
   "source": [
    "f'Membership to medium slope is: {slp_m:.3f}'"
   ]
  },
  {
   "cell_type": "code",
   "execution_count": null,
   "metadata": {},
   "outputs": [],
   "source": [
    "fig,ax1 = plt.subplots(nrows=1, figsize=(8, 4.5))\n",
    "ax1.plot(x_slope, slp_stp1, 'r', linewidth=1.5, label='Steep')\n",
    "ax1.set_title('Slope - sigmoid')\n",
    "ax1.set_xlim([0, 10])\n",
    "ax1.set_ylim([0,0.005])\n",
    "ax1.legend()\n",
    "lab1 = f'{slp_s:.4f}'\n",
    "ax1.annotate(lab1, xy=(slp, slp_s), xytext=(-0.8, slp_s))\n",
    "plt.vlines(x = slp, ymin = 0, ymax = slp_s, linewidth = 1.0, linestyles = \"dashed\")\n",
    "plt.hlines(y = slp_s, xmin = 0, xmax = slp, linewidth = 1.0, linestyles = \"dashed\")\n",
    "plt.savefig(\"slope_steep.png\", dpi = 300)\n",
    "plt.show()"
   ]
  },
  {
   "cell_type": "code",
   "execution_count": null,
   "metadata": {},
   "outputs": [],
   "source": [
    "f'Membership to steep slope is: {slp_s:.5f}'"
   ]
  },
  {
   "cell_type": "code",
   "execution_count": 19,
   "metadata": {},
   "outputs": [],
   "source": [
    "dist_c = fuzz.interp_membership(x_dist, dclose, d2ut)\n",
    "dist_f = fuzz.interp_membership(x_dist, dfar, d2ut)"
   ]
  },
  {
   "cell_type": "code",
   "execution_count": null,
   "metadata": {},
   "outputs": [],
   "source": [
    "f'Membership to close to UT is: {dist_c:.3f}'"
   ]
  },
  {
   "cell_type": "code",
   "execution_count": null,
   "metadata": {},
   "outputs": [],
   "source": [
    "fig, (ax1) = plt.subplots(nrows=1, figsize=(8, 4.5))\n",
    "ax1.plot(x_dist, dclose, 'b', linewidth=1.5, label='Close')\n",
    "#ax0.plot(x_dist, dfar, 'g', linewidth=1.5, label='Far')\n",
    "ax1.set_xlim([0, 30])\n",
    "ax1.set_ylim([0,1.05])\n",
    "ax1.legend()\n",
    "lab1 = f'{dist_c:.3f}'\n",
    "lab2 = str(d2ut)\n",
    "ax1.annotate(lab2, xy=(d2ut, 0), xytext=(d2ut, -0.05))\n",
    "plt.vlines(x = d2ut, ymin = 0, ymax = dist_c, linewidth = 1.0, linestyles = \"dashed\")\n",
    "plt.hlines(y = dist_c, xmin = 0, xmax = d2ut, linewidth = 1.0, linestyles = \"dashed\")\n",
    "plt.savefig(\"distance_close.png\", dpi = 300)\n",
    "plt.show()"
   ]
  },
  {
   "cell_type": "code",
   "execution_count": null,
   "metadata": {},
   "outputs": [],
   "source": [
    "f\"Membership to far from UT is: {dist_f:.3f}\""
   ]
  },
  {
   "cell_type": "code",
   "execution_count": null,
   "metadata": {},
   "outputs": [],
   "source": [
    "fig, (ax1) = plt.subplots(nrows=1, figsize=(8, 4.5))\n",
    "ax1.plot(x_dist, dfar, 'g', linewidth=1.5, label='Far')\n",
    "ax1.set_xlim([0, 30])\n",
    "ax1.set_ylim([0,1.05])\n",
    "ax1.legend()\n",
    "lab1 = f'{dist_f:.3f}'\n",
    "lab2 = str(d2ut)\n",
    "ax1.annotate(lab2, xy=(d2ut, 0), xytext=(d2ut, -0.05))\n",
    "plt.vlines(x = d2ut, ymin = 0, ymax = dist_f, linewidth = 1.0, linestyles = \"dashed\")\n",
    "plt.hlines(y = dist_f, xmin = 0, xmax = d2ut, linewidth = 1.0, linestyles = \"dashed\")\n",
    "plt.savefig(\"distance_far.png\", dpi = 300)\n",
    "plt.show()"
   ]
  },
  {
   "cell_type": "markdown",
   "metadata": {},
   "source": [
    "Apply Rules and use fuzzy algebra. Rule 1: Steep slope OR far from UT. OR is max value of either one. Fmax is an element wise operation (would matter if it were a higher dimensional array)"
   ]
  },
  {
   "cell_type": "code",
   "execution_count": null,
   "metadata": {},
   "outputs": [],
   "source": [
    "rule1 = np.fmax(slp_s, dist_f)\n",
    "f\"rule 1 outcome is: {rule1:.3f}\""
   ]
  },
  {
   "cell_type": "markdown",
   "metadata": {},
   "source": [
    "Rule 2: Slope is average (nothing to do here, just pass on the value)"
   ]
  },
  {
   "cell_type": "code",
   "execution_count": null,
   "metadata": {},
   "outputs": [],
   "source": [
    "rule2 = slp_m\n",
    "f\"rule 2 outcome is: {rule2:.3f}\""
   ]
  },
  {
   "cell_type": "markdown",
   "metadata": {},
   "source": [
    "Rule 3: Slope is gentle OR close to UT. Again, OR calls for max."
   ]
  },
  {
   "cell_type": "code",
   "execution_count": null,
   "metadata": {},
   "outputs": [],
   "source": [
    "rule3 = np.fmax(slp_f, dist_c)\n",
    "f\"rule 3 outcome is: {rule3:.3f}\""
   ]
  },
  {
   "cell_type": "markdown",
   "metadata": {},
   "source": [
    "Now we have to activate the rule, which means that we have to translate each rule into the verbal outcome not good, okay, and excellent. To to that, we have to also create membership functions for that. Remember that appropriateness ranges from 0-100."
   ]
  },
  {
   "cell_type": "code",
   "execution_count": 28,
   "metadata": {},
   "outputs": [],
   "source": [
    "x_appr = np.arange(0,101,1)"
   ]
  },
  {
   "cell_type": "markdown",
   "metadata": {},
   "source": [
    "Let's use triangular membership functions"
   ]
  },
  {
   "cell_type": "code",
   "execution_count": null,
   "metadata": {},
   "outputs": [],
   "source": [
    "nogood = fuzz.trimf(x_appr, [0, 0,40])\n",
    "okay = fuzz.trimf(x_appr, [25, 50, 75])\n",
    "excl = fuzz.trimf(x_appr, [60, 100, 100])\n",
    "fig, (ax0) = plt.subplots(nrows=1, figsize=(8, 4.5))\n",
    "ax0.plot(x_appr, nogood, 'b', linewidth=1.5, label='Not good')\n",
    "ax0.plot(x_appr, okay, 'g', linewidth=1.5, label='Okay')\n",
    "ax0.plot(x_appr, excl, 'r', linewidth=1.5, label='Excellent')\n",
    "ax0.set_title('Location Appropriateness - trapezoidal')\n",
    "ax0.legend()\n",
    "outFig = 'defuzzification_fct.png'\n",
    "plt.savefig(outFig, dpi = 300)\n",
    "plt.show()"
   ]
  },
  {
   "cell_type": "markdown",
   "metadata": {},
   "source": [
    "Now translate the rules into a member of the not good, okay, excellent (called 'activate rule')"
   ]
  },
  {
   "cell_type": "code",
   "execution_count": null,
   "metadata": {},
   "outputs": [],
   "source": [
    "appr_nogood = np.fmin(rule1, nogood)\n",
    "appr_nogood"
   ]
  },
  {
   "cell_type": "code",
   "execution_count": 32,
   "metadata": {},
   "outputs": [],
   "source": [
    "appr_okay = np.fmin(rule2, okay)"
   ]
  },
  {
   "cell_type": "code",
   "execution_count": 33,
   "metadata": {},
   "outputs": [],
   "source": [
    "appr_exc = np.fmin(rule3, excl)"
   ]
  },
  {
   "cell_type": "markdown",
   "metadata": {},
   "source": [
    "Final step is to defuzzify. To do that, we have to aggregate the outputs by picking the max value"
   ]
  },
  {
   "cell_type": "code",
   "execution_count": 34,
   "metadata": {},
   "outputs": [],
   "source": [
    "appragg = np.fmax(appr_nogood, np.fmax(appr_okay, appr_exc))"
   ]
  },
  {
   "cell_type": "markdown",
   "metadata": {},
   "source": [
    "And then picking an algorith to translate the array into a single appropriatness output (back to crisp value)"
   ]
  },
  {
   "cell_type": "markdown",
   "metadata": {},
   "source": [
    "Centroid algorithm"
   ]
  },
  {
   "cell_type": "code",
   "execution_count": 35,
   "metadata": {},
   "outputs": [],
   "source": [
    "app_per1 = fuzz.defuzz(x_appr, appragg, 'centroid')"
   ]
  },
  {
   "cell_type": "markdown",
   "metadata": {},
   "source": [
    "Mean of maximum algorithm"
   ]
  },
  {
   "cell_type": "code",
   "execution_count": 36,
   "metadata": {},
   "outputs": [],
   "source": [
    "app_per2 = fuzz.defuzz(x_appr, appragg, 'mom')"
   ]
  },
  {
   "cell_type": "markdown",
   "metadata": {},
   "source": [
    "Max of maximum algorithm"
   ]
  },
  {
   "cell_type": "code",
   "execution_count": 37,
   "metadata": {},
   "outputs": [],
   "source": [
    "app_per3 = fuzz.defuzz(x_appr, appragg, 'lom')"
   ]
  },
  {
   "cell_type": "code",
   "execution_count": null,
   "metadata": {},
   "outputs": [],
   "source": [
    "f\"Using the centroid rule, appropriateness is: {app_per1:.3f}\""
   ]
  },
  {
   "cell_type": "code",
   "execution_count": null,
   "metadata": {},
   "outputs": [],
   "source": [
    "f\"Using the mean of maximum rule, appropriateness is: {app_per2:.3f}\""
   ]
  },
  {
   "cell_type": "code",
   "execution_count": null,
   "metadata": {},
   "outputs": [],
   "source": [
    "f\"Using the max of maximum rule, appropriateness is: {app_per3:.3f}\""
   ]
  },
  {
   "cell_type": "markdown",
   "metadata": {},
   "source": [
    "To visualize where these numbers come from, plot the graph of activation values"
   ]
  },
  {
   "cell_type": "code",
   "execution_count": null,
   "metadata": {},
   "outputs": [],
   "source": [
    "ap0 = np.zeros_like(x_appr)\n",
    "\n",
    "fig, ax0 = plt.subplots(figsize=(8,3))\n",
    "\n",
    "ax0.fill_between(x_appr, ap0, appr_nogood, facecolor = 'b', alpha= 0.7, label = \"Not good\")\n",
    "ax0.plot(x_appr, appr_nogood, 'b', linestyle = '--')\n",
    "ax0.fill_between(x_appr, ap0, appr_okay, facecolor = 'g', alpha= 0.7, label = \"Okay\")\n",
    "ax0.plot(x_appr, appr_okay, 'g', linestyle = '--')\n",
    "ax0.fill_between(x_appr, ap0, appr_exc, facecolor = 'r', alpha= 0.7, label = \"Excellent\")\n",
    "ax0.plot(x_appr, appr_exc, 'r', linestyle = '--')\n",
    "ax0.set_title('Output membership activity')\n",
    "ax0.legend()\n",
    "outFig = 'defuzzification_activity.png'\n",
    "plt.savefig(outFig, dpi = 300)\n",
    "plt.show()"
   ]
  },
  {
   "cell_type": "code",
   "execution_count": null,
   "metadata": {},
   "outputs": [],
   "source": [
    "ap0 = np.zeros_like(x_appr)\n",
    "\n",
    "fig, ax0 = plt.subplots(figsize=(8,3))\n",
    "\n",
    "ax0.fill_between(x_appr, ap0, appr_nogood, facecolor = 'b', alpha= 0.7, label = \"Not good\")\n",
    "ax0.plot(x_appr, appr_nogood, 'b', linestyle = '--')\n",
    "ax0.fill_between(x_appr, ap0, appr_okay, facecolor = 'g', alpha= 0.7, label = \"Okay\")\n",
    "ax0.plot(x_appr, appr_okay, 'g', linestyle = '--')\n",
    "ax0.fill_between(x_appr, ap0, appr_exc, facecolor = 'r', alpha= 0.7, label = \"Excellent\")\n",
    "ax0.plot(x_appr, appr_exc, 'r', linestyle = '--')\n",
    "ax0.set_title('Centroid - mass center')\n",
    "lab1 = f'{app_per1:.3f}'\n",
    "ax0.annotate(lab1, xy=(app_per1, 0), xytext=(app_per1, -0.09))\n",
    "ax0.legend()\n",
    "plt.vlines(x = app_per1, ymin = 0, ymax= 0.5, linewidth = 1.0, color = \"k\", linestyles = \"dashed\")\n",
    "outFig = 'defuzzification_activity_centroid.png'\n",
    "plt.savefig(outFig, dpi = 300)\n",
    "plt.show()"
   ]
  },
  {
   "cell_type": "code",
   "execution_count": null,
   "metadata": {},
   "outputs": [],
   "source": [
    "ap0 = np.zeros_like(x_appr)\n",
    "\n",
    "fig, ax0 = plt.subplots(figsize=(8,3))\n",
    "\n",
    "ax0.fill_between(x_appr, ap0, appr_nogood, facecolor = 'b', alpha= 0.7, label = \"Not good\")\n",
    "ax0.plot(x_appr, appr_nogood, 'b', linestyle = '--')\n",
    "ax0.fill_between(x_appr, ap0, appr_okay, facecolor = 'g', alpha= 0.7, label = \"Okay\")\n",
    "ax0.plot(x_appr, appr_okay, 'g', linestyle = '--')\n",
    "ax0.fill_between(x_appr, ap0, appr_exc, facecolor = 'r', alpha= 0.7, label = \"Excellent\")\n",
    "ax0.plot(x_appr, appr_exc, 'r', linestyle = '--')\n",
    "ax0.set_title('Centroid - Mean of Maximum')\n",
    "lab1 = f'{app_per2:.2f}'\n",
    "ax0.annotate(lab1, xy=(app_per2, 0), xytext=(app_per2, -0.09))\n",
    "ax0.legend()\n",
    "plt.vlines(x = app_per2, ymin = 0, ymax= 0.6, linewidth = 1.0, color = \"k\", linestyles = \"dashed\")\n",
    "outFig = 'defuzzification_activity_mean_max.png'\n",
    "plt.savefig(outFig, dpi = 300)\n",
    "plt.show()"
   ]
  },
  {
   "cell_type": "code",
   "execution_count": null,
   "metadata": {},
   "outputs": [],
   "source": [
    "ap0 = np.zeros_like(x_appr)\n",
    "\n",
    "fig, ax0 = plt.subplots(figsize=(8,3))\n",
    "\n",
    "ax0.fill_between(x_appr, ap0, appr_nogood, facecolor = 'b', alpha= 0.7, label = \"Not good\")\n",
    "ax0.plot(x_appr, appr_nogood, 'b', linestyle = '--')\n",
    "ax0.fill_between(x_appr, ap0, appr_okay, facecolor = 'g', alpha= 0.7, label = \"Okay\")\n",
    "ax0.plot(x_appr, appr_okay, 'g', linestyle = '--')\n",
    "ax0.fill_between(x_appr, ap0, appr_exc, facecolor = 'r', alpha= 0.7, label = \"Excellent\")\n",
    "ax0.plot(x_appr, appr_exc, 'r', linestyle = '--')\n",
    "ax0.set_title('Centroid - Max of Maximum')\n",
    "lab1 = f'{app_per3:.2f}'\n",
    "ax0.annotate(lab1, xy=(app_per3, 0), xytext=((app_per3-5), -0.09))\n",
    "ax0.legend()\n",
    "plt.vlines(x = app_per3, ymin = 0, ymax= 0.6, linewidth = 1.0, color = \"k\", linestyles = \"dashed\")\n",
    "outFig = 'defuzzification_activity_max_max.png'\n",
    "plt.savefig(outFig, dpi = 300)\n",
    "plt.show()"
   ]
  }
 ],
 "metadata": {
  "kernelspec": {
   "display_name": "geo-env",
   "language": "python",
   "name": "python3"
  },
  "language_info": {
   "codemirror_mode": {
    "name": "ipython",
    "version": 3
   },
   "file_extension": ".py",
   "mimetype": "text/x-python",
   "name": "python",
   "nbconvert_exporter": "python",
   "pygments_lexer": "ipython3",
   "version": "3.11.10"
  }
 },
 "nbformat": 4,
 "nbformat_minor": 2
}
