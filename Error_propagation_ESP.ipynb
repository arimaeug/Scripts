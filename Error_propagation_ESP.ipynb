{
 "cells": [
  {
   "cell_type": "markdown",
   "metadata": {},
   "source": [
    "Drawing on Zandbergen's (2011) \"Error propagation modeling for terrain analysis...\", this script simulates the influence of elevation measurement errors on the calculated volumes of landslides. This analysis is a component of the broader research presented in \"Ramos, C. and Arima, E. 2025 Multi-decadal sediment dynamics of a tropical watershed - the relative roles of surface erosion and shallow landsliding. Earth Surface Processes and Landforms.\n",
    "\n",
    "Implemented using arcpy library\n",
    "\n",
    "Written by: E. Arima: University of Texas at Austin\n",
    "\n",
    "Date: February 2025"
   ]
  },
  {
   "cell_type": "code",
   "execution_count": null,
   "metadata": {},
   "outputs": [],
   "source": [
    "import arcpy\n",
    "from arcpy import env\n",
    "from arcpy.sa import *\n",
    "import pandas as pd\n",
    "import os"
   ]
  },
  {
   "cell_type": "code",
   "execution_count": null,
   "metadata": {},
   "outputs": [],
   "source": [
    "#Set path to your folder\n",
    "path = r\"\"\n",
    "env.workspace = path\n",
    "#Overwrite output\n",
    "env.overwriteOutput = True\n",
    "os.chdir(path)"
   ]
  },
  {
   "cell_type": "code",
   "execution_count": null,
   "metadata": {},
   "outputs": [],
   "source": [
    "#Read the DEM raster files to variables (elevations only where landslides were identified)\n",
    "dem2018 = r\"2018_dem_yah_jan25.tif\"\n",
    "\n",
    "dem2016 = r\"2016_dem_yah_jan25.tif\"\n",
    "#set this raster as the extent\n",
    "env.extent = dem2016\n",
    "env.cellSize = dem2016"
   ]
  },
  {
   "cell_type": "code",
   "execution_count": null,
   "metadata": {},
   "outputs": [],
   "source": [
    "#Read the landslides polygon file into a variable\n",
    "lndslides = r\"digitizedlandslides_yah_final_Edited.shp\"\n",
    "#set environment mask\n",
    "#env.mask = lndslides"
   ]
  },
  {
   "cell_type": "code",
   "execution_count": null,
   "metadata": {},
   "outputs": [],
   "source": [
    "#Set number of simulations\n",
    "nsim = 251"
   ]
  },
  {
   "cell_type": "code",
   "execution_count": null,
   "metadata": {},
   "outputs": [],
   "source": [
    "#Set RMSEs\n",
    "#Non-vegetated vertical accuracy for 2016 is 9.4 cm, according to https://www.fisheries.noaa.gov/inport/item/55314\n",
    "rmse2016 = 0.094\n",
    "#Non-vegetated vertical accuracy for 2018 is 6.83 cm, according to https://www.fisheries.noaa.gov/inport/item/60105\n",
    "rmse2018 = 0.0683\n",
    "#Distribution parameter for random error: normal distribution with mean zero, sd = 1\n",
    "pdist = \"NORMAL 0.0, 1.0\""
   ]
  },
  {
   "cell_type": "code",
   "execution_count": null,
   "metadata": {},
   "outputs": [],
   "source": [
    "#loop\n",
    "for s in range(1, nsim):\n",
    "    #create a random raster, normal distribution with mean zero, sd = rmse\n",
    "    #output raster\n",
    "    outrnd2016 = f\"rnd2016{s}.tif\"\n",
    "    arcpy.management.CreateRandomRaster(path, outrnd2016, pdist, cellsize = 1)\n",
    "    #Create autocorrelated error raster\n",
    "    fs2016 = FocalStatistics(outrnd2016, NbrCircle(5, \"CELL\"), \"MEAN\")\n",
    "    #outfs2016 = f\"fs2016{s}.tif\"\n",
    "    #fs2016.save(outfs2016)\n",
    "    #Obtain standard deviation of fs raster\n",
    "    stobj2016 = arcpy.GetRasterProperties_management(fs2016, \"STD\")\n",
    "    std2016 = float(stobj2016.getOutput(0))\n",
    "    print(f\"The standard deviation of 2016 simulation {s} is: {std2016}\")\n",
    "    #Bring fs to sd = 1\n",
    "    fsdiv2016 = Raster(fs2016)/std2016\n",
    "    #\n",
    "    #Multiply by RMSE to bring it to sd = rmse\n",
    "    fsmult2016 = Raster(fsdiv2016)*rmse2016\n",
    "    #Add error to DEM\n",
    "    demfs2016 = Raster(dem2016) + Raster(fsmult2016)\n",
    "    #outdem2016 = f\"demfs2016_{s}.tif\"\n",
    "    #demfs2016.save(outdem2016)\n",
    "    #\n",
    "    #repeat process for 2018 DEM\n",
    "    #output raster\n",
    "    outrnd2018 = f\"rnd2018{s}.tif\"\n",
    "    arcpy.management.CreateRandomRaster(path, outrnd2018, pdist, cellsize = 1)\n",
    "    #Create autocorrelated error raster\n",
    "    fs2018 = FocalStatistics(outrnd2018, NbrCircle(5, \"CELL\"), \"MEAN\")\n",
    "    #outfs2018 = f\"fs2018{s}.tif\"\n",
    "    #fs2018.save(outfs2018)\n",
    "    #Obtain standard deviation of fs raster\n",
    "    stobj2018 = arcpy.GetRasterProperties_management(fs2018, \"STD\")\n",
    "    std2018 = float(stobj2018.getOutput(0))\n",
    "    print(f\"The standard deviation of 2018 simulation {s} is: {std2018}\")\n",
    "    #Bring fs back to sd = 1\n",
    "    fsdiv2018 = Raster(fs2018)/std2018\n",
    "    #\n",
    "    #Multiply by RMSE to bring it to sd = rmse\n",
    "    fsmult2018 = Raster(fsdiv2018)*rmse2018\n",
    "    #Add error to DEM\n",
    "    demfs2018 = Raster(dem2018) + Raster(fsmult2018)\n",
    "    #outdem2018 = f\"demfs2018_{s}.tif\"\n",
    "    #demfs2018.save(outdem2018)\n",
    "    #\n",
    "    #Subtract 2018 - 2016\n",
    "    deminus = Raster(demfs2018) - Raster(demfs2016)\n",
    "    #outminus= f\"deminus{s}.tif\"\n",
    "    #deminus.save(outminus)\n",
    "    #Calculate zonal statistics as table\n",
    "    # by ID number\n",
    "    outTable = f\"zonalstat{s}.dbf\"\n",
    "    outzonal = ZonalStatisticsAsTable(lndslides, \"ID\", deminus, outTable, \"DATA\", \"ALL\")\n",
    "    #\n",
    "    #Clean up, delete tif files\n",
    "    #\n",
    "    #\n",
    "    toDel = [outrnd2016, outrnd2018]\n",
    "    arcpy.management.Delete(toDel)\n",
    "    print(f\"Simulation {s} completed.\")\n",
    "print(\"********************************\")\n",
    "print(\"All simulations completed.\")"
   ]
  }
 ],
 "metadata": {
  "language_info": {
   "name": "python"
  }
 },
 "nbformat": 4,
 "nbformat_minor": 2
}
